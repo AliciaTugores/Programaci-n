{
 "metadata": {
  "language_info": {
   "codemirror_mode": {
    "name": "ipython",
    "version": 3
   },
   "file_extension": ".py",
   "mimetype": "text/x-python",
   "name": "python",
   "nbconvert_exporter": "python",
   "pygments_lexer": "ipython3",
   "version": "3.6.9-final"
  },
  "orig_nbformat": 2,
  "kernelspec": {
   "name": "python36964bit726dce05b3144e9e80719d87a8e14857",
   "display_name": "Python 3.6.9 64-bit"
  }
 },
 "nbformat": 4,
 "nbformat_minor": 2,
 "cells": [
  {
   "cell_type": "code",
   "execution_count": null,
   "metadata": {},
   "outputs": [],
   "source": [
    "cents = 56\n",
    "coinKeys = ['Nickels', 'Pennies', 'Dimes', 'Quarters']\n",
    "coinValues = [5, 1, 10, 25]\n",
    "wallet = dict(zip(coinKeys, coinValues))"
   ]
  },
  {
   "cell_type": "code",
   "execution_count": null,
   "metadata": {},
   "outputs": [],
   "source": [
    "coins = list(sorted(wallet.values()))"
   ]
  },
  {
   "cell_type": "code",
   "execution_count": null,
   "metadata": {},
   "outputs": [],
   "source": [
    "change = []\n",
    "i = len(coins) - 1\n",
    "while cents > 0 and i >= 0:\n",
    "    if cents >= coins[i]:\n",
    "        cents = cents - coins[i]\n",
    "        change.append(coins[i])\n",
    "    else:\n",
    "        i -= 1"
   ]
  },
  {
   "cell_type": "code",
   "execution_count": null,
   "metadata": {},
   "outputs": [],
   "source": [
    "change_dict = dict.fromkeys(coinKeys, 0)"
   ]
  },
  {
   "cell_type": "code",
   "execution_count": null,
   "metadata": {},
   "outputs": [],
   "source": [
    "for coin in change:\n",
    "    for coinKeys in wallet:\n",
    "        if wallet[coinKeys] == coin:\n",
    "            change_dict[coinKeys] += 1\n",
    "print(change_dict)"
   ]
  }
 ]
}